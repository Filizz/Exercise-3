{
 "cells": [
  {
   "cell_type": "markdown",
   "id": "45e33792",
   "metadata": {},
   "source": [
    "# 7. File I/O"
   ]
  },
  {
   "cell_type": "markdown",
   "id": "cbe7ddf9",
   "metadata": {},
   "source": [
    "# Exercise 7.1: Open a file"
   ]
  },
  {
   "cell_type": "code",
   "execution_count": 1,
   "id": "1f2bb585",
   "metadata": {},
   "outputs": [],
   "source": [
    "def open_file(filename):\n",
    "    with open(filename, 'r') as f:\n",
    "        for line in f:\n",
    "            print(line, end =\"\")\n",
    "        print (\"\\n\")\n",
    "    f.close()"
   ]
  },
  {
   "cell_type": "markdown",
   "id": "8529c5ad",
   "metadata": {},
   "source": [
    "# Exercise 7.2: Wordcount"
   ]
  },
  {
   "cell_type": "code",
   "execution_count": null,
   "id": "b7427569",
   "metadata": {},
   "outputs": [],
   "source": [
    "def shakespeare_count(filename):\n",
    "    frequencyDict = {}\n",
    "    with open(filename, 'r') as f:\n",
    "        for line in f:\n",
    "            for word in line.split():\n",
    "                if word in frequencyDict:\n",
    "                    count = frequencyDict[word]\n",
    "                    count += 1\n",
    "                    frequencyDict = count\n",
    "                else :\n",
    "                    frequencyDict[word] = 1\n",
    "    f.close()\n",
    "    highestValue = 0\n",
    "    for key, value in frequencyDict:\n",
    "        if value >= highestValue:\n",
    "            highestValue = value\n",
    "    twenty_most_common = sorted(frequencyDict.keys(), key=lambda x: frequencyDict[x])[:20]\n",
    "    return twenty_most_common"
   ]
  },
  {
   "cell_type": "code",
   "execution_count": null,
   "id": "718dfbb9",
   "metadata": {},
   "outputs": [],
   "source": [
    "def unique_words(filename):\n",
    "    wordSet = set()\n",
    "    with open(filename, 'r') as f:\n",
    "        for line in f:\n",
    "            for word in line.split():\n",
    "                wordSet.add(word)\n",
    "    f.close()\n",
    "    print(len(wordSet))"
   ]
  },
  {
   "cell_type": "markdown",
   "id": "0ff7b1e7",
   "metadata": {},
   "source": [
    "# 7.4: Sum of Lists"
   ]
  },
  {
   "cell_type": "code",
   "execution_count": null,
   "id": "af18f563",
   "metadata": {},
   "outputs": [],
   "source": [
    "# Data generation\n",
    "import random\n",
    "def generate_data(n, a, b, filename):\n",
    "    randomList = []\n",
    "    with open(filename, 'w') as w:\n",
    "        while (n>0):\n",
    "            if (a > b):\n",
    "                randNumber = random.randint(b, a)\n",
    "                randomList.append(randNumber)\n",
    "            elif (b > a): \n",
    "                randNumber = random.randint(a, b)\n",
    "                randomList.append(randNumber)\n",
    "            n = n - 1\n",
    "        w.write(str(randomList))\n",
    "    w.close()"
   ]
  },
  {
   "cell_type": "code",
   "execution_count": null,
   "id": "fc855ea4",
   "metadata": {},
   "outputs": [],
   "source": [
    "# Reading the Data\n",
    "\n",
    "def read_data(filename):\n",
    "    document = []\n",
    "    with open(filename, 'r') as f:\n",
    "        for line in f:\n",
    "            line = line.strip('[]')\n",
    "            document = line.split(',')\n",
    "    f.close()\n",
    "    return document"
   ]
  },
  {
   "cell_type": "code",
   "execution_count": null,
   "id": "578386c2",
   "metadata": {},
   "outputs": [],
   "source": [
    "def sum_problem(file1, file2, k):\n",
    "    list1 = read_data(file1)\n",
    "    list2 = read_data(file2)\n",
    "    for item1 in list1:\n",
    "        for item2 in list2:\n",
    "            if (int(item1) + int(item2) == int(k)):\n",
    "                print(\"u: \",item1.strip(),\" / v: \", item2.strip())"
   ]
  },
  {
   "cell_type": "markdown",
   "id": "6a2ddc04",
   "metadata": {},
   "source": [
    "# 8. Classes"
   ]
  },
  {
   "cell_type": "markdown",
   "id": "8f9e61cf",
   "metadata": {},
   "source": [
    "# Exercise 8.1: Rational numbers"
   ]
  },
  {
   "cell_type": "code",
   "execution_count": null,
   "id": "1b2cd52b",
   "metadata": {},
   "outputs": [],
   "source": [
    "class Rational:\n",
    "    def__init__(self,a,b):\n",
    "       \n",
    "        if b==0:\n",
    "            raise ZeroDivisionError, (\"Denominator of a rational\" \"may not be zero.\")\n",
    "            else:\n",
    "                g = gcd(a,b)\n",
    "                self.n = a/g\n",
    "                self.d = b/g\n",
    "     "
   ]
  },
  {
   "cell_type": "code",
   "execution_count": null,
   "id": "88afb387",
   "metadata": {},
   "outputs": [],
   "source": [
    "def __str__(self):\n",
    "    return str(self.n) + \"/\" + str(self.d)"
   ]
  },
  {
   "cell_type": "code",
   "execution_count": 3,
   "id": "3b1aa129",
   "metadata": {},
   "outputs": [],
   "source": [
    "def __add__(self,other):\n",
    "        return Rational(self.n*other.d + other.n*self.d , self.d*other.d)"
   ]
  },
  {
   "cell_type": "code",
   "execution_count": null,
   "id": "3a67e9e1",
   "metadata": {},
   "outputs": [],
   "source": [
    "def __sub__(self,other):\n",
    "    return Rational(self.n*other.d - other.n*self.d , self.d*other.d)"
   ]
  },
  {
   "cell_type": "code",
   "execution_count": null,
   "id": "73c7a57e",
   "metadata": {},
   "outputs": [],
   "source": [
    "def __mul__(self,other):\n",
    "    return Rational(self.n*other.n , self.d*other.d)"
   ]
  },
  {
   "cell_type": "code",
   "execution_count": null,
   "id": "51418ea4",
   "metadata": {},
   "outputs": [],
   "source": [
    "def __div__(self,other):\n",
    "   \n",
    " return Rational(self.n*other.d , self.d*other.n)"
   ]
  },
  {
   "cell_type": "code",
   "execution_count": null,
   "id": "82010233",
   "metadata": {},
   "outputs": [],
   "source": [
    "def __float__(self):\n",
    "    return float(self.n) / float(self.d)"
   ]
  },
  {
   "cell_type": "code",
   "execution_count": null,
   "id": "32281746",
   "metadata": {},
   "outputs": [],
   "source": [
    "def __eq__(self, other):\n",
    "    firstnum = self.n * other.d\n",
    "    secondnum = other.n * self.d\n",
    "\n",
    "    return firstnum == secondnum"
   ]
  },
  {
   "cell_type": "markdown",
   "id": "e88b730c",
   "metadata": {},
   "source": [
    "# Exercise 8.4: Sparse and dense vectors"
   ]
  },
  {
   "cell_type": "code",
   "execution_count": null,
   "id": "26b830d1",
   "metadata": {},
   "outputs": [],
   "source": [
    "from pyspark.mllib.linalg import Vectors, SparseVector, DenseVector\n",
    "import numpy as np\n",
    "\n",
    "def add(v1, v2):\n",
    "#Add two sparse vectors\n",
    "    assert isinstance(v1, SparseVector) and isinstance(v2, SparseVector)\n",
    "    assert v1.size == v2.size \n",
    "# Compute union of indices\n",
    "    indices = set(v1.indices).union(set(v2.indices))\n",
    "   "
   ]
  },
  {
   "cell_type": "markdown",
   "id": "4ee311da",
   "metadata": {},
   "source": [
    "# Exercise 8.5: Implementing the set class"
   ]
  },
  {
   "cell_type": "code",
   "execution_count": 2,
   "id": "d672ca5c",
   "metadata": {},
   "outputs": [
    {
     "data": {
      "text/plain": [
       "{1, 2, 3}"
      ]
     },
     "execution_count": 2,
     "metadata": {},
     "output_type": "execute_result"
    }
   ],
   "source": [
    " myset={3,1,2}\n",
    "myset"
   ]
  },
  {
   "cell_type": "markdown",
   "id": "17b46d70",
   "metadata": {},
   "source": [
    "# Exercise 8.6: Binary search tree"
   ]
  },
  {
   "cell_type": "code",
   "execution_count": null,
   "id": "64e1dc9f",
   "metadata": {},
   "outputs": [],
   "source": [
    "class Node:\n",
    " \n",
    "    def __init__(self, val):\n",
    "        self.val = val\n",
    "        self.left = None\n",
    "        self.right = None\n",
    "        "
   ]
  },
  {
   "cell_type": "code",
   "execution_count": null,
   "id": "2d5c5c0e",
   "metadata": {},
   "outputs": [],
   "source": [
    "if self.right:\n",
    "       self.right.insert(val)\n",
    "            return\n",
    "        self.right = Node(val)\n",
    "     "
   ]
  },
  {
   "cell_type": "code",
   "execution_count": null,
   "id": "02701ec9",
   "metadata": {},
   "outputs": [],
   "source": [
    "def search(root,key):\n",
    "     \n",
    "        if root is None or root.val == key:\n",
    "        return root\n",
    " \n",
    "      if root.val < key:\n",
    "        return search(root.right,key)\n",
    " \n",
    "      return search(root.left,key)"
   ]
  },
  {
   "cell_type": "code",
   "execution_count": null,
   "id": "94777580",
   "metadata": {},
   "outputs": [],
   "source": [
    "def delete(self, val):\n",
    "    if self == None:\n",
    "        return self\n",
    "    if val < self.val:\n",
    "        self.left = self.left.delete(val)\n",
    "        return self\n",
    "    if val > self.val:\n",
    "        self.right = self.right.delete(val)\n",
    "        return self\n",
    "    if self.right == None:\n",
    "        return self.left\n",
    "    if self.left == None:\n",
    "        return self.right\n",
    "    min_larger_node = self.right\n",
    "    while min_larger_node.left:\n",
    "        min_larger_node = min_larger_node.left\n",
    "    self.val = min_larger_node.val\n",
    "    self.right = self.right.delete(min_larger_node.val)\n",
    "    return selfdef delete(self, val):\n",
    "    if self == None:\n",
    "        return self\n",
    "    if val < self.val:\n",
    "        if self.left:\n",
    "            self.left = self.left.delete(val)\n",
    "        return self\n",
    "    if val > self.val:\n",
    "        if self.right:\n",
    "            self.right = self.right.delete(val)\n",
    "        return self\n",
    "    if self.right == None:\n",
    "        return self.left\n",
    "    if self.left == None:\n",
    "        return self.right\n",
    "    min_larger_node = self.right\n",
    "    while min_larger_node.left:\n",
    "        min_larger_node = min_larger_node.left\n",
    "    self.val = min_larger_node.val\n",
    "    self.right = self.right.delete(min_larger_node.val)\n",
    "    return selfdef delete(self, val):\n",
    "    if self == None:\n",
    "        return self\n",
    "    if val < self.val:\n",
    "        self.left = self.left.delete(val)\n",
    "        return self\n",
    "    if val > self.val:\n",
    "        self.right = self.right.delete(val)\n",
    "        return self\n",
    "    if self.right == None:\n",
    "        return self.left\n",
    "    if self.left == None:\n",
    "        return self.right\n",
    "    min_larger_node = self.right\n",
    "    while min_larger_node.left:\n",
    "        min_larger_node = min_larger_node.left\n",
    "    self.val = min_larger_node.val\n",
    "    self.right = self.right.delete(min_larger_node.val)\n",
    "    return self"
   ]
  }
 ],
 "metadata": {
  "kernelspec": {
   "display_name": "Python 3 (ipykernel)",
   "language": "python",
   "name": "python3"
  },
  "language_info": {
   "codemirror_mode": {
    "name": "ipython",
    "version": 3
   },
   "file_extension": ".py",
   "mimetype": "text/x-python",
   "name": "python",
   "nbconvert_exporter": "python",
   "pygments_lexer": "ipython3",
   "version": "3.10.2"
  }
 },
 "nbformat": 4,
 "nbformat_minor": 5
}
